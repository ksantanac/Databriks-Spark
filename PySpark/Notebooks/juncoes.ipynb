{
 "cells": [
  {
   "cell_type": "markdown",
   "id": "a150f3f3",
   "metadata": {},
   "source": [
    "## UTILIZANDO OPERAÇOES DE JOIN, LEFT e RIGHT\n"
   ]
  },
  {
   "cell_type": "code",
   "execution_count": 5,
   "id": "4c197eef",
   "metadata": {},
   "outputs": [
    {
     "data": {
      "text/html": [
       "\n",
       "            <div>\n",
       "                <p><b>SparkSession - in-memory</b></p>\n",
       "                \n",
       "        <div>\n",
       "            <p><b>SparkContext</b></p>\n",
       "\n",
       "            <p><a href=\"http://DESKTOP-VFF5FFR:4040\">Spark UI</a></p>\n",
       "\n",
       "            <dl>\n",
       "              <dt>Version</dt>\n",
       "                <dd><code>v3.5.1</code></dd>\n",
       "              <dt>Master</dt>\n",
       "                <dd><code>local[*]</code></dd>\n",
       "              <dt>AppName</dt>\n",
       "                <dd><code>Iniciando com Spark</code></dd>\n",
       "            </dl>\n",
       "        </div>\n",
       "        \n",
       "            </div>\n",
       "        "
      ],
      "text/plain": [
       "<pyspark.sql.session.SparkSession at 0x1ebf9b9ba10>"
      ]
     },
     "execution_count": 5,
     "metadata": {},
     "output_type": "execute_result"
    }
   ],
   "source": [
    "import findspark\n",
    "\n",
    "findspark.init()\n",
    "\n",
    "from pyspark.sql import SparkSession\n",
    "\n",
    "# Cria uma instância de SparkSession, que é a entrada para usar o Spark\n",
    "spark = SparkSession.builder \\\n",
    "    .master('local[*]') \\\n",
    "    .appName(\"Iniciando com Spark\") \\\n",
    "    .getOrCreate()\n",
    "    \n",
    "spark"
   ]
  },
  {
   "cell_type": "code",
   "execution_count": 6,
   "id": "e4cd3440",
   "metadata": {},
   "outputs": [],
   "source": [
    "#Leitura dos arquivos de profissionais e salarios\n",
    "profissional=spark.sparkContext.textFile(r\"C:\\Users\\Kaue\\Documents\\Cursos\\Databricks e PySpark\\PySpark\\Folhapagamento\\Profissionais.txt\")\n",
    "salario=spark.sparkContext.textFile(r\"C:\\Users\\Kaue\\Documents\\Cursos\\Databricks e PySpark\\PySpark\\Folhapagamento\\Salario.txt\")"
   ]
  },
  {
   "cell_type": "code",
   "execution_count": 7,
   "id": "ff910d7d",
   "metadata": {},
   "outputs": [
    {
     "data": {
      "text/plain": [
       "['Carlos,oncologista,hospital',\n",
       " 'Ana,dentista,clinica',\n",
       " 'Fernanda,enfermeira,hospital',\n",
       " 'Sandra,pediatra,clinica',\n",
       " 'Fatima,dentista,clinica',\n",
       " 'Gilmar,cardiologista,hospital',\n",
       " 'Fabio,pediatra,clinica',\n",
       " 'Hilton,enfermeiro,clinica',\n",
       " 'Daiane,dentista,clinica',\n",
       " 'Paulo,farmaceutico,clinica',\n",
       " 'Gilberto,pediatra,hospital']"
      ]
     },
     "execution_count": 7,
     "metadata": {},
     "output_type": "execute_result"
    }
   ],
   "source": [
    "# Exibindo os dados sobre os profissionais\n",
    "profissional.collect()"
   ]
  },
  {
   "cell_type": "code",
   "execution_count": 8,
   "id": "d611516b",
   "metadata": {},
   "outputs": [
    {
     "data": {
      "text/plain": [
       "['Carlos,10000',\n",
       " 'Ana,7000',\n",
       " 'Fernanda,5000',\n",
       " 'Sandra,6000',\n",
       " 'Fatima,8500',\n",
       " 'Gilmar,9000',\n",
       " 'Fabio,12000',\n",
       " 'Hilton,5000',\n",
       " 'Jefferson,8000',\n",
       " 'Antonio,3000',\n",
       " 'Joaquim,5000']"
      ]
     },
     "execution_count": 8,
     "metadata": {},
     "output_type": "execute_result"
    }
   ],
   "source": [
    "#Exibindo os dados sobre salario\n",
    "salario.collect()"
   ]
  },
  {
   "cell_type": "code",
   "execution_count": 9,
   "id": "bb318ec6",
   "metadata": {},
   "outputs": [
    {
     "data": {
      "text/plain": [
       "[('Carlos', ('oncologista', 'hospital')),\n",
       " ('Ana', ('dentista', 'clinica')),\n",
       " ('Fernanda', ('enfermeira', 'hospital')),\n",
       " ('Sandra', ('pediatra', 'clinica')),\n",
       " ('Fatima', ('dentista', 'clinica')),\n",
       " ('Gilmar', ('cardiologista', 'hospital')),\n",
       " ('Fabio', ('pediatra', 'clinica')),\n",
       " ('Hilton', ('enfermeiro', 'clinica')),\n",
       " ('Daiane', ('dentista', 'clinica')),\n",
       " ('Paulo', ('farmaceutico', 'clinica')),\n",
       " ('Gilberto', ('pediatra', 'hospital'))]"
      ]
     },
     "execution_count": 9,
     "metadata": {},
     "output_type": "execute_result"
    }
   ],
   "source": [
    "# Aplica a transformação 'map' no RDD 'profissional'.\n",
    "# A função lambda é utilizada para:\n",
    "# 1. Dividir cada linha do arquivo (cada elemento do RDD) em uma lista usando a vírgula como delimitador.\n",
    "# 2. Criar uma tupla onde o primeiro elemento é o primeiro item da lista (x.split(\",\")[0]),\n",
    "# e o segundo elemento é outra tupla com o segundo e o terceiro itens da lista (x.split(\",\")[1], x.split(\",\")[2]).\n",
    "profissional_ajuste = profissional.map(lambda x: (x.split(\",\")[0], (x.split(\",\")[1], x.split(\",\")[2])))\n",
    "\n",
    "# Coleta os resultados do RDD transformado 'profissional_ajuste' e os retorna como uma lista.\n",
    "# Isso significa que o processamento distribuído é executado e os resultados são trazidos de volta para o driver.\n",
    "profissional_ajuste.collect()"
   ]
  },
  {
   "cell_type": "code",
   "execution_count": 10,
   "id": "8538c346",
   "metadata": {},
   "outputs": [],
   "source": [
    "#realizando o mapeamento dos campos sobre salario\n",
    "salario_ajuste=salario.map(lambda x:(x.split(\",\")[0],x.split(\",\")[1]))"
   ]
  },
  {
   "cell_type": "code",
   "execution_count": 11,
   "id": "c6a820c3",
   "metadata": {},
   "outputs": [
    {
     "data": {
      "text/plain": [
       "[('Carlos', (('oncologista', 'hospital'), '10000')),\n",
       " ('Ana', (('dentista', 'clinica'), '7000')),\n",
       " ('Fabio', (('pediatra', 'clinica'), '12000')),\n",
       " ('Hilton', (('enfermeiro', 'clinica'), '5000')),\n",
       " ('Sandra', (('pediatra', 'clinica'), '6000')),\n",
       " ('Fatima', (('dentista', 'clinica'), '8500')),\n",
       " ('Fernanda', (('enfermeira', 'hospital'), '5000')),\n",
       " ('Gilmar', (('cardiologista', 'hospital'), '9000'))]"
      ]
     },
     "execution_count": 11,
     "metadata": {},
     "output_type": "execute_result"
    }
   ],
   "source": [
    "# Realizando a operacao de join, que significa a busca de todas as informacoes no RDD\n",
    "# profissional e que exista no RDD salario\n",
    "folha_pagamento_join=profissional_ajuste.join(salario_ajuste)\n",
    "folha_pagamento_join.collect()"
   ]
  },
  {
   "cell_type": "code",
   "execution_count": 12,
   "id": "f8695454",
   "metadata": {},
   "outputs": [
    {
     "data": {
      "text/plain": [
       "[('Paulo', (('farmaceutico', 'clinica'), None)),\n",
       " ('Carlos', (('oncologista', 'hospital'), '10000')),\n",
       " ('Ana', (('dentista', 'clinica'), '7000')),\n",
       " ('Fabio', (('pediatra', 'clinica'), '12000')),\n",
       " ('Hilton', (('enfermeiro', 'clinica'), '5000')),\n",
       " ('Gilberto', (('pediatra', 'hospital'), None)),\n",
       " ('Sandra', (('pediatra', 'clinica'), '6000')),\n",
       " ('Fatima', (('dentista', 'clinica'), '8500')),\n",
       " ('Fernanda', (('enfermeira', 'hospital'), '5000')),\n",
       " ('Gilmar', (('cardiologista', 'hospital'), '9000')),\n",
       " ('Daiane', (('dentista', 'clinica'), None))]"
      ]
     },
     "execution_count": 12,
     "metadata": {},
     "output_type": "execute_result"
    }
   ],
   "source": [
    "# Realizando a operacao de left, que significa a busca de todas as informacoes no RDD\n",
    "# profissional e que exista ou nao no RDD salario\n",
    "folha_pagamento_join=profissional_ajuste.leftOuterJoin(salario_ajuste)\n",
    "folha_pagamento_join.collect()"
   ]
  },
  {
   "cell_type": "code",
   "execution_count": 13,
   "id": "f94c9f00",
   "metadata": {},
   "outputs": [
    {
     "data": {
      "text/plain": [
       "[('Antonio', (None, '3000')),\n",
       " ('Carlos', (('oncologista', 'hospital'), '10000')),\n",
       " ('Ana', (('dentista', 'clinica'), '7000')),\n",
       " ('Fabio', (('pediatra', 'clinica'), '12000')),\n",
       " ('Hilton', (('enfermeiro', 'clinica'), '5000')),\n",
       " ('Jefferson', (None, '8000')),\n",
       " ('Joaquim', (None, '5000')),\n",
       " ('Sandra', (('pediatra', 'clinica'), '6000')),\n",
       " ('Fatima', (('dentista', 'clinica'), '8500')),\n",
       " ('Fernanda', (('enfermeira', 'hospital'), '5000')),\n",
       " ('Gilmar', (('cardiologista', 'hospital'), '9000'))]"
      ]
     },
     "execution_count": 13,
     "metadata": {},
     "output_type": "execute_result"
    }
   ],
   "source": [
    "# Realizando a operacao de right, que significa a busca de todas as informacoes no RDD\n",
    "# salario e que exista ou nao no RDD profissional\n",
    "folha_pagamento_join=profissional_ajuste.rightOuterJoin(salario_ajuste)\n",
    "folha_pagamento_join.collect()"
   ]
  },
  {
   "cell_type": "code",
   "execution_count": null,
   "id": "83c0fe3b",
   "metadata": {},
   "outputs": [],
   "source": []
  }
 ],
 "metadata": {
  "kernelspec": {
   "display_name": "Python 3",
   "language": "python",
   "name": "python3"
  },
  "language_info": {
   "codemirror_mode": {
    "name": "ipython",
    "version": 3
   },
   "file_extension": ".py",
   "mimetype": "text/x-python",
   "name": "python",
   "nbconvert_exporter": "python",
   "pygments_lexer": "ipython3",
   "version": "3.11.7"
  }
 },
 "nbformat": 4,
 "nbformat_minor": 5
}
