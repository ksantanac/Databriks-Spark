{
 "cells": [
  {
   "cell_type": "markdown",
   "id": "e002f125",
   "metadata": {},
   "source": [
    "## Carregando dados de um arquivo JSON\n",
    "\n",
    " * Vamos analisar dados dentro de um arquivo JSON, dados mensagens sobre análise de sentimentos:\n",
    " \n",
    " 1. Carregar o arquivo de dados JSON\n",
    " 2. Entender o Schema gerado pelo arquivo\n",
    " 3. Separá-lo em fragmentos\n",
    " 4. Criar uma visão com os dados para analisar dentro do SPARK SQL\n",
    " 5. Mostrar as frases com sentimentos negativos\n",
    " \n",
    " "
   ]
  },
  {
   "cell_type": "code",
   "execution_count": 1,
   "id": "ab8f1864",
   "metadata": {},
   "outputs": [
    {
     "data": {
      "text/html": [
       "\n",
       "            <div>\n",
       "                <p><b>SparkSession - in-memory</b></p>\n",
       "                \n",
       "        <div>\n",
       "            <p><b>SparkContext</b></p>\n",
       "\n",
       "            <p><a href=\"http://DESKTOP-VFF5FFR:4040\">Spark UI</a></p>\n",
       "\n",
       "            <dl>\n",
       "              <dt>Version</dt>\n",
       "                <dd><code>v3.5.1</code></dd>\n",
       "              <dt>Master</dt>\n",
       "                <dd><code>local[*]</code></dd>\n",
       "              <dt>AppName</dt>\n",
       "                <dd><code>Iniciando com Spark</code></dd>\n",
       "            </dl>\n",
       "        </div>\n",
       "        \n",
       "            </div>\n",
       "        "
      ],
      "text/plain": [
       "<pyspark.sql.session.SparkSession at 0x1aba70e4dd0>"
      ]
     },
     "execution_count": 1,
     "metadata": {},
     "output_type": "execute_result"
    }
   ],
   "source": [
    "import findspark\n",
    "\n",
    "findspark.init()\n",
    "\n",
    "from pyspark.sql import SparkSession\n",
    "\n",
    "# Cria uma instância de SparkSession, que é a entrada para usar o Spark\n",
    "spark = SparkSession.builder \\\n",
    "    .master('local[*]') \\\n",
    "    .appName(\"Iniciando com Spark\") \\\n",
    "    .getOrCreate()\n",
    "    \n",
    "spark"
   ]
  },
  {
   "cell_type": "code",
   "execution_count": 2,
   "id": "0e69283c",
   "metadata": {},
   "outputs": [],
   "source": [
    "#criando um objeto sparksession object e um appName \n",
    "sparkSession=SparkSession.builder.appName(\"sentimento\").getOrCreate()"
   ]
  },
  {
   "cell_type": "code",
   "execution_count": 3,
   "id": "1b0d65b6",
   "metadata": {},
   "outputs": [],
   "source": [
    "# Carregando os dados arquivo JSON\n",
    "path = r\"C:\\Users\\Kaue\\Documents\\Cursos\\Databricks e PySpark\\PySpark\\json\\sentimento.json\"\n",
    "sentimentoDF = sparkSession.read.json(path,multiLine = \"true\")"
   ]
  },
  {
   "cell_type": "code",
   "execution_count": 4,
   "id": "7901ec1d",
   "metadata": {},
   "outputs": [
    {
     "name": "stdout",
     "output_type": "stream",
     "text": [
      "+--------------------+--------------------+\n",
      "|             context|                 qas|\n",
      "+--------------------+--------------------+\n",
      "|spent the entire ...|[{[{55, my boss w...|\n",
      "| oh! good idea ab...|[{[{5, good}], 25...|\n",
      "|says good (or sho...|[{[{0, says good ...|\n",
      "| i dont think you...|[{[{1, i dont thi...|\n",
      "| haha better drun...|[{[{6, better}], ...|\n",
      "|headache  wanna s...|[{[{0, headache}]...|\n",
      "|had an awsome sal...|[{[{0, had an aws...|\n",
      "| fine! going to d...|[{[{1, fine!}], a...|\n",
      "| thank a yoou  ho...|[{[{1, thank}], a...|\n",
      "|why don't adobe r...|[{[{0, why don't ...|\n",
      "|prd take a long t...|[{[{0, prd take a...|\n",
      "|_2008 well, havin...|[{[{1, 2008 well,...|\n",
      "|    miss you my dear|[{[{1, miss you m...|\n",
      "|have just bought ...|[{[{0, have just ...|\n",
      "| ya mine too but ...|[{[{1, ya mine to...|\n",
      "|today dan bought ...|[{[{107, , my tum...|\n",
      "| oo noo thats not...|[{[{12, s not goo...|\n",
      "|misses her phone....|[{[{20, having no...|\n",
      "|so i have like no...|[{[{15, no more f...|\n",
      "|i have perused th...|[{[{0, i have per...|\n",
      "+--------------------+--------------------+\n",
      "only showing top 20 rows\n",
      "\n"
     ]
    }
   ],
   "source": [
    "#Exibindo os dados arquivo JSON\n",
    "sentimentoDF.show()"
   ]
  },
  {
   "cell_type": "code",
   "execution_count": 5,
   "id": "622de1ca",
   "metadata": {},
   "outputs": [
    {
     "name": "stdout",
     "output_type": "stream",
     "text": [
      "root\n",
      " |-- context: string (nullable = true)\n",
      " |-- qas: array (nullable = true)\n",
      " |    |-- element: struct (containsNull = true)\n",
      " |    |    |-- answers: array (nullable = true)\n",
      " |    |    |    |-- element: struct (containsNull = true)\n",
      " |    |    |    |    |-- answer_start: long (nullable = true)\n",
      " |    |    |    |    |-- text: string (nullable = true)\n",
      " |    |    |-- id: string (nullable = true)\n",
      " |    |    |-- is_impossible: boolean (nullable = true)\n",
      " |    |    |-- question: string (nullable = true)\n",
      "\n"
     ]
    }
   ],
   "source": [
    "#Exibindo o schema arquivo JSON\n",
    "sentimentoDF.printSchema()"
   ]
  },
  {
   "cell_type": "code",
   "execution_count": 6,
   "id": "f33efe0a",
   "metadata": {},
   "outputs": [
    {
     "name": "stdout",
     "output_type": "stream",
     "text": [
      "root\n",
      " |-- context: string (nullable = true)\n",
      " |-- id: array (nullable = true)\n",
      " |    |-- element: string (containsNull = true)\n",
      " |-- is_impossible: array (nullable = true)\n",
      " |    |-- element: boolean (containsNull = true)\n",
      " |-- question: array (nullable = true)\n",
      " |    |-- element: string (containsNull = true)\n",
      "\n"
     ]
    }
   ],
   "source": [
    "# Especificando quais campos deseja trabalhar\n",
    "sent2DF = sentimentoDF.select(\"context\",\"qas.id\", \"qas.is_impossible\",\"qas.question\")\n",
    "sent2DF.printSchema()"
   ]
  },
  {
   "cell_type": "code",
   "execution_count": 7,
   "id": "e7d48596",
   "metadata": {},
   "outputs": [
    {
     "name": "stdout",
     "output_type": "stream",
     "text": [
      "+------------------------------------------------------------------------------------------------------------------------------------+------------+-------------+----------+\n",
      "|context                                                                                                                             |id          |is_impossible|question  |\n",
      "+------------------------------------------------------------------------------------------------------------------------------------+------------+-------------+----------+\n",
      "|spent the entire morning in a meeting w/ a vendor, and my boss was not happy w/ them. lots of fun.  i had other plans for my morning|[a3d0a7d5ad]|[false]      |[neutral] |\n",
      "| oh! good idea about putting them on ice cream                                                                                      |[251b6a6766]|[false]      |[positive]|\n",
      "|says good (or should i say bad?) afternoon!  http://plurk.com/p/wxpdj                                                               |[c9e8d1ef1c]|[false]      |[neutral] |\n",
      "| i dont think you can vote anymore! i tried                                                                                         |[f14f087215]|[false]      |[negative]|\n",
      "| haha better drunken tweeting you mean?                                                                                             |[bf7473b12d]|[false]      |[positive]|\n",
      "|headache  wanna see my julie                                                                                                        |[1915bebcb3]|[false]      |[negative]|\n",
      "|had an awsome salad! i recommend getting the spicey buffalo chicken salad!                                                          |[2ab82634d5]|[false]      |[positive]|\n",
      "| fine! going to do my big walk today 20 or so miles                                                                                 |[a5a1c996c0]|[false]      |[positive]|\n",
      "| thank a yoou  how are you? #twittertakeover                                                                                        |[a182b2638e]|[false]      |[positive]|\n",
      "|why don't adobe realise no one wants to pay for photoshop et al so they should just give it to us for free                          |[1dcb6fdb13]|[false]      |[neutral] |\n",
      "+------------------------------------------------------------------------------------------------------------------------------------+------------+-------------+----------+\n",
      "only showing top 10 rows\n",
      "\n"
     ]
    }
   ],
   "source": [
    "# Exibindo os registros\n",
    "sent2DF.show(10, False)"
   ]
  },
  {
   "cell_type": "code",
   "execution_count": 8,
   "id": "d6d7acf5",
   "metadata": {},
   "outputs": [
    {
     "name": "stdout",
     "output_type": "stream",
     "text": [
      "+--------------------+----------+\n",
      "|             context|  question|\n",
      "+--------------------+----------+\n",
      "|spent the entire ...| [neutral]|\n",
      "| oh! good idea ab...|[positive]|\n",
      "|says good (or sho...| [neutral]|\n",
      "| i dont think you...|[negative]|\n",
      "| haha better drun...|[positive]|\n",
      "|headache  wanna s...|[negative]|\n",
      "|had an awsome sal...|[positive]|\n",
      "| fine! going to d...|[positive]|\n",
      "| thank a yoou  ho...|[positive]|\n",
      "|why don't adobe r...| [neutral]|\n",
      "|prd take a long t...| [neutral]|\n",
      "|_2008 well, havin...| [neutral]|\n",
      "|    miss you my dear|[negative]|\n",
      "|have just bought ...|[positive]|\n",
      "| ya mine too but ...| [neutral]|\n",
      "|today dan bought ...|[negative]|\n",
      "| oo noo thats not...|[negative]|\n",
      "|misses her phone....|[negative]|\n",
      "|so i have like no...|[negative]|\n",
      "|i have perused th...| [neutral]|\n",
      "+--------------------+----------+\n",
      "only showing top 20 rows\n",
      "\n"
     ]
    }
   ],
   "source": [
    "# Separando em apenas 2 campos para uso no SQL\n",
    "sent3DF = sentimentoDF.select(\"context\", \"qas.question\")\n",
    "sent3DF.show()"
   ]
  },
  {
   "cell_type": "code",
   "execution_count": 9,
   "id": "cc26755f",
   "metadata": {},
   "outputs": [],
   "source": [
    "# Criando uma visão com os dados\n",
    "sent3DF.createOrReplaceTempView(\"sentimentos\")"
   ]
  },
  {
   "cell_type": "code",
   "execution_count": 10,
   "id": "369a2bda",
   "metadata": {},
   "outputs": [
    {
     "name": "stdout",
     "output_type": "stream",
     "text": [
      "+--------------------+\n",
      "|             context|\n",
      "+--------------------+\n",
      "|get into me not g...|\n",
      "| sorry to hear ab...|\n",
      "| aww im sorry im ...|\n",
      "|  hope you have a...|\n",
      "|  is there going ...|\n",
      "| you can find mor...|\n",
      "|is predicting a h...|\n",
      "| soon i hope... r...|\n",
      "| aww hope uve had...|\n",
      "| good evening ter...|\n",
      "|just woke up, hop...|\n",
      "| well sure hope t...|\n",
      "|  that's no bueno...|\n",
      "| i hope you had f...|\n",
      "| i hope it's some...|\n",
      "| oh no! hope you ...|\n",
      "|yeha i broke thei...|\n",
      "|back from brunch....|\n",
      "|not feeling too g...|\n",
      "| i hope you feel ...|\n",
      "+--------------------+\n",
      "only showing top 20 rows\n",
      "\n"
     ]
    }
   ],
   "source": [
    "#Pesquisando dentre os dados todos que possuem a palavra HOPE\n",
    "sparkSession.sql(\"select context from sentimentos where context like '%hope%'\").show()"
   ]
  },
  {
   "cell_type": "code",
   "execution_count": 11,
   "id": "b5c5907a",
   "metadata": {},
   "outputs": [],
   "source": [
    "# Convertendo os dados de array para string com a função concat_ws\n",
    "# 'concat_ws' é uma função do Spark SQL que concatena os elementos de um array em uma única string,\n",
    "# utilizando um delimitador específico (neste caso, a vírgula ',') entre os elementos.\n",
    "\n",
    "# Cria um DataFrame 'sent4DF' utilizando uma consulta SQL na sessão Spark\n",
    "sent4DF = sparkSession.sql(\n",
    "    \"select context, question, concat_ws(',', question) as tps from sentimentos\"\n",
    ")\n",
    "\n",
    "# Explicação:\n",
    "# - 'select context, question': Seleciona as colunas 'context' e 'question' da tabela 'sentimentos'.\n",
    "# - 'concat_ws(',', question) as tps': Concatena os elementos da coluna 'question', \n",
    "#    assumindo que 'question' é um array de strings. Os elementos do array são unidos em uma única string, \n",
    "#    separados por vírgulas. O resultado é nomeado como 'tps'.\n",
    "# - 'from sentimentos': Indica que os dados estão sendo extraídos da tabela 'sentimentos'.\n",
    "\n",
    "# Resumindo:\n",
    "# Este código cria um novo DataFrame onde, além de manter as colunas 'context' e 'question',\n",
    "# ele cria uma nova coluna chamada 'tps', que contém os valores da coluna 'question' convertidos de array \n",
    "# para uma única string, com os elementos separados por vírgulas.\n"
   ]
  },
  {
   "cell_type": "code",
   "execution_count": 12,
   "id": "257b62fc",
   "metadata": {},
   "outputs": [],
   "source": [
    "# Criando uma visão com os dados\n",
    "sent4DF.createOrReplaceTempView(\"tipo_sentimento\")"
   ]
  },
  {
   "cell_type": "code",
   "execution_count": 13,
   "id": "a901622e",
   "metadata": {},
   "outputs": [
    {
     "name": "stdout",
     "output_type": "stream",
     "text": [
      "+--------------------+----------+\n",
      "|             context|  question|\n",
      "+--------------------+----------+\n",
      "| i dont think you...|[negative]|\n",
      "|headache  wanna s...|[negative]|\n",
      "|    miss you my dear|[negative]|\n",
      "|today dan bought ...|[negative]|\n",
      "| oo noo thats not...|[negative]|\n",
      "|misses her phone....|[negative]|\n",
      "|so i have like no...|[negative]|\n",
      "|also i popped the...|[negative]|\n",
      "|               uh oh|[negative]|\n",
      "| what brody how d...|[negative]|\n",
      "|i feel useless i ...|[negative]|\n",
      "|kate is leaving m...|[negative]|\n",
      "|i lost a follower...|[negative]|\n",
      "| saying goodbye t...|[negative]|\n",
      "|just got back in,...|[negative]|\n",
      "|   my dog ran awayyy|[negative]|\n",
      "|is missing someon...|[negative]|\n",
      "| s'ok, trying to ...|[negative]|\n",
      "|hot ****, i'm at ...|[negative]|\n",
      "|just figured out ...|[negative]|\n",
      "+--------------------+----------+\n",
      "only showing top 20 rows\n",
      "\n"
     ]
    }
   ],
   "source": [
    "#Pesquisando dentre os dados todos que possuem o tipo de sentimento negativo\n",
    "sparkSession.sql(\"select context, question from tipo_sentimento where tps = 'negative'\").show()"
   ]
  },
  {
   "cell_type": "code",
   "execution_count": 14,
   "id": "6aa859ef",
   "metadata": {},
   "outputs": [
    {
     "name": "stdout",
     "output_type": "stream",
     "text": [
      "+--------+--------+\n",
      "|     tps|count(1)|\n",
      "+--------+--------+\n",
      "|positive|    8582|\n",
      "| neutral|   11117|\n",
      "|negative|    7786|\n",
      "+--------+--------+\n",
      "\n"
     ]
    }
   ],
   "source": [
    "#Contagem dos tipos de sentimento\n",
    "sparkSession.sql(\"select tps, count(*) from tipo_sentimento group by tps\").show()"
   ]
  },
  {
   "cell_type": "code",
   "execution_count": null,
   "id": "113165fc",
   "metadata": {},
   "outputs": [],
   "source": []
  }
 ],
 "metadata": {
  "kernelspec": {
   "display_name": "Python 3",
   "language": "python",
   "name": "python3"
  },
  "language_info": {
   "codemirror_mode": {
    "name": "ipython",
    "version": 3
   },
   "file_extension": ".py",
   "mimetype": "text/x-python",
   "name": "python",
   "nbconvert_exporter": "python",
   "pygments_lexer": "ipython3",
   "version": "3.11.7"
  }
 },
 "nbformat": 4,
 "nbformat_minor": 5
}
