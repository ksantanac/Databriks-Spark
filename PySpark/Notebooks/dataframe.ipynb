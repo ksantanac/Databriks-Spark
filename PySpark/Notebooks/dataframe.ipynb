{
 "cells": [
  {
   "cell_type": "markdown",
   "id": "04a44adf",
   "metadata": {},
   "source": [
    "## Criação de Dataframe"
   ]
  },
  {
   "cell_type": "code",
   "execution_count": 1,
   "id": "fd2d0738",
   "metadata": {},
   "outputs": [
    {
     "data": {
      "text/html": [
       "\n",
       "            <div>\n",
       "                <p><b>SparkSession - in-memory</b></p>\n",
       "                \n",
       "        <div>\n",
       "            <p><b>SparkContext</b></p>\n",
       "\n",
       "            <p><a href=\"http://DESKTOP-VFF5FFR:4040\">Spark UI</a></p>\n",
       "\n",
       "            <dl>\n",
       "              <dt>Version</dt>\n",
       "                <dd><code>v3.5.1</code></dd>\n",
       "              <dt>Master</dt>\n",
       "                <dd><code>local[*]</code></dd>\n",
       "              <dt>AppName</dt>\n",
       "                <dd><code>Iniciando com Spark</code></dd>\n",
       "            </dl>\n",
       "        </div>\n",
       "        \n",
       "            </div>\n",
       "        "
      ],
      "text/plain": [
       "<pyspark.sql.session.SparkSession at 0x1e20c2d13d0>"
      ]
     },
     "execution_count": 1,
     "metadata": {},
     "output_type": "execute_result"
    }
   ],
   "source": [
    "import findspark\n",
    "\n",
    "findspark.init()\n",
    "\n",
    "from pyspark.sql import SparkSession\n",
    "\n",
    "# Cria uma instância de SparkSession, que é a entrada para usar o Spark\n",
    "spark = SparkSession.builder \\\n",
    "    .master('local[*]') \\\n",
    "    .appName(\"Iniciando com Spark\") \\\n",
    "    .getOrCreate()\n",
    "    \n",
    "spark"
   ]
  },
  {
   "cell_type": "code",
   "execution_count": 3,
   "id": "2f87a473",
   "metadata": {},
   "outputs": [
    {
     "data": {
      "text/html": [
       "<div>\n",
       "<style scoped>\n",
       "    .dataframe tbody tr th:only-of-type {\n",
       "        vertical-align: middle;\n",
       "    }\n",
       "\n",
       "    .dataframe tbody tr th {\n",
       "        vertical-align: top;\n",
       "    }\n",
       "\n",
       "    .dataframe thead th {\n",
       "        text-align: right;\n",
       "    }\n",
       "</style>\n",
       "<table border=\"1\" class=\"dataframe\">\n",
       "  <thead>\n",
       "    <tr style=\"text-align: right;\">\n",
       "      <th></th>\n",
       "      <th>Cidade</th>\n",
       "      <th>Populacao</th>\n",
       "      <th>Time</th>\n",
       "      <th>Dat_cadastro</th>\n",
       "    </tr>\n",
       "  </thead>\n",
       "  <tbody>\n",
       "    <tr>\n",
       "      <th>0</th>\n",
       "      <td>Salvador</td>\n",
       "      <td>6.0</td>\n",
       "      <td>Bahia</td>\n",
       "      <td>2021-10-10</td>\n",
       "    </tr>\n",
       "    <tr>\n",
       "      <th>1</th>\n",
       "      <td>Sao Paulo</td>\n",
       "      <td>45.0</td>\n",
       "      <td>Sao Paulo</td>\n",
       "      <td>2021-05-05</td>\n",
       "    </tr>\n",
       "    <tr>\n",
       "      <th>2</th>\n",
       "      <td>Recife</td>\n",
       "      <td>3.0</td>\n",
       "      <td>Sport</td>\n",
       "      <td>2021-07-02</td>\n",
       "    </tr>\n",
       "    <tr>\n",
       "      <th>3</th>\n",
       "      <td>Maceio</td>\n",
       "      <td>2.0</td>\n",
       "      <td>CSA</td>\n",
       "      <td>2021-08-01</td>\n",
       "    </tr>\n",
       "  </tbody>\n",
       "</table>\n",
       "</div>"
      ],
      "text/plain": [
       "      Cidade  Populacao       Time Dat_cadastro\n",
       "0   Salvador        6.0      Bahia   2021-10-10\n",
       "1  Sao Paulo       45.0  Sao Paulo   2021-05-05\n",
       "2     Recife        3.0      Sport   2021-07-02\n",
       "3     Maceio        2.0        CSA   2021-08-01"
      ]
     },
     "execution_count": 3,
     "metadata": {},
     "output_type": "execute_result"
    }
   ],
   "source": [
    "#Carregando dados em um Dataframe e Listando\n",
    "from datetime import datetime, date\n",
    "from pyspark.sql import Row\n",
    "\n",
    "datf=spark.createDataFrame([\n",
    "    Row(Cidade='Salvador', Populacao=6., Time='Bahia', Dat_cadastro=date(2021, 10, 10)),\n",
    "    Row(Cidade='Sao Paulo',Populacao=45., Time='Sao Paulo', Dat_cadastro=date(2021, 5, 5)),\n",
    "    Row(Cidade='Recife', Populacao=3., Time='Sport',Dat_cadastro=date(2021, 7, 2)),\n",
    "    Row(Cidade='Maceio', Populacao=2., Time='CSA', Dat_cadastro=date(2021, 8, 1)),\n",
    "])\n",
    "\n",
    "datf.toPandas()"
   ]
  },
  {
   "cell_type": "code",
   "execution_count": 4,
   "id": "669fcade",
   "metadata": {},
   "outputs": [
    {
     "name": "stdout",
     "output_type": "stream",
     "text": [
      "+---------+---------+---------+------------+\n",
      "|   Cidade|Populacao|     Time|Dat_cadastro|\n",
      "+---------+---------+---------+------------+\n",
      "| Salvador|      6.0|    Bahia|  2021-10-10|\n",
      "|Sao Paulo|     45.0|Sao Paulo|  2021-05-05|\n",
      "|   Recife|      3.0|    Sport|  2021-07-02|\n",
      "|   Maceio|      2.0|      CSA|  2021-08-01|\n",
      "+---------+---------+---------+------------+\n",
      "\n"
     ]
    }
   ],
   "source": [
    "#Exibindo os dados do Dataframe\n",
    "\n",
    "datf.show()"
   ]
  },
  {
   "cell_type": "code",
   "execution_count": 5,
   "id": "ea45feec",
   "metadata": {},
   "outputs": [
    {
     "name": "stdout",
     "output_type": "stream",
     "text": [
      "+---------+---------+---------+------------+\n",
      "|   Cidade|Populacao|     Time|Dat_cadastro|\n",
      "+---------+---------+---------+------------+\n",
      "| Salvador|      6.0|    Bahia|  2021-10-10|\n",
      "|Sao Paulo|     45.0|Sao Paulo|  2021-05-05|\n",
      "+---------+---------+---------+------------+\n",
      "only showing top 2 rows\n",
      "\n"
     ]
    }
   ],
   "source": [
    "# Exibindo apenas dois registros no Dataframe\n",
    "datf.show(2)"
   ]
  },
  {
   "cell_type": "code",
   "execution_count": 6,
   "id": "d1fd745e",
   "metadata": {},
   "outputs": [
    {
     "name": "stdout",
     "output_type": "stream",
     "text": [
      "-RECORD 0------------------\n",
      " Cidade       | Salvador   \n",
      " Populacao    | 6.0        \n",
      " Time         | Bahia      \n",
      " Dat_cadastro | 2021-10-10 \n",
      "-RECORD 1------------------\n",
      " Cidade       | Sao Paulo  \n",
      " Populacao    | 45.0       \n",
      " Time         | Sao Paulo  \n",
      " Dat_cadastro | 2021-05-05 \n",
      "-RECORD 2------------------\n",
      " Cidade       | Recife     \n",
      " Populacao    | 3.0        \n",
      " Time         | Sport      \n",
      " Dat_cadastro | 2021-07-02 \n",
      "only showing top 3 rows\n",
      "\n"
     ]
    }
   ],
   "source": [
    "# Exibindo tres registros do Dataframe na vertical\n",
    "datf.show(3, vertical=True)"
   ]
  },
  {
   "cell_type": "code",
   "execution_count": 7,
   "id": "ea878d48",
   "metadata": {},
   "outputs": [
    {
     "data": {
      "text/plain": [
       "[Row(Cidade='Salvador', Populacao=6.0, Time='Bahia', Dat_cadastro=datetime.date(2021, 10, 10)),\n",
       " Row(Cidade='Sao Paulo', Populacao=45.0, Time='Sao Paulo', Dat_cadastro=datetime.date(2021, 5, 5)),\n",
       " Row(Cidade='Recife', Populacao=3.0, Time='Sport', Dat_cadastro=datetime.date(2021, 7, 2)),\n",
       " Row(Cidade='Maceio', Populacao=2.0, Time='CSA', Dat_cadastro=datetime.date(2021, 8, 1))]"
      ]
     },
     "execution_count": 7,
     "metadata": {},
     "output_type": "execute_result"
    }
   ],
   "source": [
    "# Exibindo todos os dados com o collect()\n",
    "datf.collect()"
   ]
  },
  {
   "cell_type": "code",
   "execution_count": 8,
   "id": "996fea54",
   "metadata": {},
   "outputs": [
    {
     "name": "stdout",
     "output_type": "stream",
     "text": [
      "+-------+---------+-----------------+\n",
      "|summary|   Cidade|        Populacao|\n",
      "+-------+---------+-----------------+\n",
      "|  count|        4|                4|\n",
      "|   mean|     NULL|             14.0|\n",
      "| stddev|     NULL|20.73644135332772|\n",
      "|    min|   Maceio|              2.0|\n",
      "|    max|Sao Paulo|             45.0|\n",
      "+-------+---------+-----------------+\n",
      "\n"
     ]
    }
   ],
   "source": [
    "# Sumarizando os dados a partir de determinados campos\n",
    "datf.select(\"Cidade\", \"Populacao\").describe().show()"
   ]
  },
  {
   "cell_type": "code",
   "execution_count": 9,
   "id": "d70c839d",
   "metadata": {},
   "outputs": [
    {
     "name": "stdout",
     "output_type": "stream",
     "text": [
      "root\n",
      " |-- Cidade: string (nullable = true)\n",
      " |-- Populacao: double (nullable = true)\n",
      " |-- Time: string (nullable = true)\n",
      " |-- Dat_cadastro: date (nullable = true)\n",
      "\n"
     ]
    }
   ],
   "source": [
    "# Exibindo o Schema do Dataframe\n",
    "datf.printSchema()"
   ]
  },
  {
   "cell_type": "code",
   "execution_count": 10,
   "id": "2bba06db",
   "metadata": {},
   "outputs": [
    {
     "name": "stdout",
     "output_type": "stream",
     "text": [
      "+---------+---------+---------+------------+---------+\n",
      "|   Cidade|Populacao|     Time|Dat_cadastro| Cidade_U|\n",
      "+---------+---------+---------+------------+---------+\n",
      "| Salvador|      6.0|    Bahia|  2021-10-10| SALVADOR|\n",
      "|Sao Paulo|     45.0|Sao Paulo|  2021-05-05|SAO PAULO|\n",
      "|   Recife|      3.0|    Sport|  2021-07-02|   RECIFE|\n",
      "|   Maceio|      2.0|      CSA|  2021-08-01|   MACEIO|\n",
      "+---------+---------+---------+------------+---------+\n",
      "\n"
     ]
    }
   ],
   "source": [
    "# Carregando o modulo de funções, expecificamente a função Upper\n",
    "from pyspark.sql.functions import upper\n",
    "\n",
    "datf.withColumn('Cidade_U', upper(datf.Cidade)).show()"
   ]
  },
  {
   "cell_type": "code",
   "execution_count": 11,
   "id": "88de945e",
   "metadata": {},
   "outputs": [
    {
     "name": "stdout",
     "output_type": "stream",
     "text": [
      "+--------+---------+-----+------------+\n",
      "|  Cidade|Populacao| Time|Dat_cadastro|\n",
      "+--------+---------+-----+------------+\n",
      "|Salvador|      6.0|Bahia|  2021-10-10|\n",
      "+--------+---------+-----+------------+\n",
      "\n"
     ]
    }
   ],
   "source": [
    "# Filtrando a Cidade de Salvador nos dados\n",
    "datf.filter(datf.Cidade == \"Salvador\").show()"
   ]
  },
  {
   "cell_type": "code",
   "execution_count": 12,
   "id": "3adfe9e6",
   "metadata": {},
   "outputs": [
    {
     "name": "stdout",
     "output_type": "stream",
     "text": [
      "+--------+\n",
      "|count(1)|\n",
      "+--------+\n",
      "|       4|\n",
      "+--------+\n",
      "\n"
     ]
    }
   ],
   "source": [
    "# Criando uma tabela temporária em memória com os dados e utilizando consulta SQL\n",
    "datf.createOrReplaceTempView(\"Dados\")\n",
    "spark.sql(\"select count(*) from Dados\").show()"
   ]
  },
  {
   "cell_type": "markdown",
   "id": "e8726daa",
   "metadata": {},
   "source": [
    "## Transformando um RDD em Dataframe"
   ]
  },
  {
   "cell_type": "code",
   "execution_count": 13,
   "id": "45627a1d",
   "metadata": {},
   "outputs": [],
   "source": [
    "# carregando os dados sobre Capital de paises\n",
    "pais = [(\"Brasil\",10000),(\"Argentina\",20000),(\"Australia\",35000),(\"Italia\",40000),(\"Egito\",65000),(\"Mexico\",80000)]\n",
    "rddpais= spark.sparkContext.parallelize(pais)"
   ]
  },
  {
   "cell_type": "code",
   "execution_count": 14,
   "id": "29587ecd",
   "metadata": {},
   "outputs": [],
   "source": [
    "# convertendo os dados do RDD para Dataframe com a operação toDF() \n",
    "dataframerdd= rddpais.toDF()"
   ]
  },
  {
   "cell_type": "code",
   "execution_count": 15,
   "id": "cc43f513",
   "metadata": {},
   "outputs": [
    {
     "name": "stdout",
     "output_type": "stream",
     "text": [
      "+---------+-----+\n",
      "|       _1|   _2|\n",
      "+---------+-----+\n",
      "|   Brasil|10000|\n",
      "|Argentina|20000|\n",
      "|Australia|35000|\n",
      "|   Italia|40000|\n",
      "|    Egito|65000|\n",
      "|   Mexico|80000|\n",
      "+---------+-----+\n",
      "\n"
     ]
    }
   ],
   "source": [
    "# Exibindo os dados do Dataframe\n",
    "dataframerdd.show()"
   ]
  },
  {
   "cell_type": "code",
   "execution_count": 16,
   "id": "04d6bb8e",
   "metadata": {},
   "outputs": [
    {
     "name": "stdout",
     "output_type": "stream",
     "text": [
      "root\n",
      " |-- Pais: string (nullable = true)\n",
      " |-- Total_capital(Bilhoes): long (nullable = true)\n",
      "\n",
      "+---------+----------------------+\n",
      "|Pais     |Total_capital(Bilhoes)|\n",
      "+---------+----------------------+\n",
      "|Brasil   |10000                 |\n",
      "|Argentina|20000                 |\n",
      "|Australia|35000                 |\n",
      "|Italia   |40000                 |\n",
      "|Egito    |65000                 |\n",
      "|Mexico   |80000                 |\n",
      "+---------+----------------------+\n",
      "\n"
     ]
    }
   ],
   "source": [
    "# Criando o schema das colunas dos campos do Dataframe\n",
    "Colunas = [\"Pais\",\"Total_capital(Bilhoes)\"]\n",
    "dataframerdd2= rddpais.toDF(Colunas)\n",
    "dataframerdd2.printSchema()\n",
    "dataframerdd2.show(truncate=False)"
   ]
  },
  {
   "cell_type": "code",
   "execution_count": null,
   "id": "7c698cf5",
   "metadata": {},
   "outputs": [],
   "source": []
  }
 ],
 "metadata": {
  "kernelspec": {
   "display_name": "Python 3",
   "language": "python",
   "name": "python3"
  },
  "language_info": {
   "codemirror_mode": {
    "name": "ipython",
    "version": 3
   },
   "file_extension": ".py",
   "mimetype": "text/x-python",
   "name": "python",
   "nbconvert_exporter": "python",
   "pygments_lexer": "ipython3",
   "version": "3.11.7"
  }
 },
 "nbformat": 4,
 "nbformat_minor": 5
}
